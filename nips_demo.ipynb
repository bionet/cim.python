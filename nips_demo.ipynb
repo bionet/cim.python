{
 "metadata": {
  "name": "nips_demo"
 },
 "nbformat": 3,
 "nbformat_minor": 0,
 "worksheets": [
  {
   "cells": [
    {
     "cell_type": "heading",
     "level": 2,
     "metadata": {},
     "source": [
      "Identifying Dendritic Processing in a [Filter]-[Ideal IAF] neural circuit"
     ]
    },
    {
     "cell_type": "markdown",
     "metadata": {},
     "source": [
      "This demo illustrates identification of the [Filter] in the\n",
      "[Filter]-[Ideal IAF] circuit using band-limited input signals, i.e.,\n",
      "signals that belong to the Paley-Wiener space.\n",
      "\n",
      "The code below corresponds to Corollary 3 in [1] and was used to generate\n",
      "Figs. 4-6 in [1]. The employed filter was taken from [2].\n",
      "\n",
      "Author:               Yevgeniy B. Slutskiy <ys2146@columbia.edu>\n",
      "\n",
      "Revision Author:      Chung-Heng Yeh <chyeh@ee.columbia.edu>\n",
      "\n",
      "Bionet Group, Columbia University\n",
      "\n",
      "Copyright 2010-2012   Yevgeniy B. Slutskiy and Chung-Heng Yeh"
     ]
    },
    {
     "cell_type": "heading",
     "level": 3,
     "metadata": {},
     "source": [
      "Initialize the demo"
     ]
    },
    {
     "cell_type": "code",
     "collapsed": false,
     "input": [
      "from nips_demo import *\n",
      "\n",
      "tic_demo = time()  # initialize the timer for the entire demo\n",
      "tic_init = time()  # initialize the timer for the initialization\n",
      "dt = 5e-6          # set the time step, [s]"
     ],
     "language": "python",
     "metadata": {},
     "outputs": []
    },
    {
     "cell_type": "heading",
     "level": 3,
     "metadata": {},
     "source": [
      "Specify the filter $h~$ to be used"
     ]
    },
    {
     "cell_type": "markdown",
     "metadata": {},
     "source": [
      "Generate a filter $h~$ according to Adelson and Bergen in [2]. $h~$ has a\n",
      "temporal support on the interval $[T_1, T_2]$"
     ]
    },
    {
     "cell_type": "code",
     "collapsed": false,
     "input": [
      "T_1, T_2 = 0., 0.1+dt               # set the interval of the impulse response, [s]\n",
      "t_filt = np.arange(T_1,T_2,dt)      # set the length of the impulse response, [s]\n",
      "a = 200;                            # set the filter parameter\n",
      "h = 3*a*np.exp(-a*t_filt)*((a*t_filt)**3/factorial(3)\\\n",
      "    -(a*t_filt)**5/factorial(5))\n",
      "# set zero-padded version of h, for comparison purpose\n",
      "h_long = np.concatenate( (np.zeros(len(h)//2),h,np.zeros(len(h)//2)) )\n",
      "t_long = np.concatenate(( dt*np.arange(-(len(h)//2),0),t_filt,\n",
      "                          dt*np.arange(len(h),len(h)+len(h)//2)))"
     ],
     "language": "python",
     "metadata": {},
     "outputs": []
    },
    {
     "cell_type": "heading",
     "level": 4,
     "metadata": {},
     "source": [
      "Plot the filter"
     ]
    },
    {
     "cell_type": "code",
     "collapsed": false,
     "input": [
      "p.figure(0);\n",
      "p.axes(xlim=(t_filt[0],t_filt[-1]),xlabel='Time, [s]',ylabel='Amplitude',\n",
      "       title='Impulse response $h(t)$ of the filter');\n",
      "p.plot(t_filt, h);\n",
      "p.show()"
     ],
     "language": "python",
     "metadata": {},
     "outputs": []
    },
    {
     "cell_type": "heading",
     "level": 3,
     "metadata": {},
     "source": [
      "Create a band-limited stimulus $u~$. The bandwidth W = $2\\cdot\\pi\\cdot{}25$ rad/s"
     ]
    },
    {
     "cell_type": "code",
     "collapsed": false,
     "input": [
      "f = 25.                       # set the input signal bandwidth, [Hz]\n",
      "W = 2.*np.pi*f                # calculate the bandwidth in [rad]\n",
      "t = np.arange(0.,1.12+dt,dt)  # set the time course of the input signal\n",
      "# fix the state of random number generator for reproducible results\n",
      "u = create_random_band_signal(dt, t, W, seed=20130101)"
     ],
     "language": "python",
     "metadata": {},
     "outputs": []
    },
    {
     "cell_type": "heading",
     "level": 4,
     "metadata": {},
     "source": [
      "Plot the stimulus"
     ]
    },
    {
     "cell_type": "code",
     "collapsed": false,
     "input": [
      "p.figure(1)\n",
      "p.axes(xlim=(t[0],t[-1]),xlabel='Time, [s]',ylabel='Amplitude',\n",
      "       title='Input Stimulus $u(t)$');  \n",
      "p.plot(t,u)\n",
      "p.show()"
     ],
     "language": "python",
     "metadata": {},
     "outputs": []
    },
    {
     "cell_type": "heading",
     "level": 3,
     "metadata": {},
     "source": [
      "Compute the filter projection $\\mathcal{P}h$"
     ]
    },
    {
     "cell_type": "markdown",
     "metadata": {},
     "source": [
      "$\\mathcal{P}h~$ is the projection of $h$ onto the input signal space. It is the best\n",
      "approximation of $h$ that can be recovered."
     ]
    },
    {
     "cell_type": "code",
     "collapsed": false,
     "input": [
      "t_Ph = t_long                           # set the time course of the projection Ph\n",
      "Ph = low_pass_filter(dt,t_Ph,h_long,W)  # find the projection Ph"
     ],
     "language": "python",
     "metadata": {},
     "outputs": []
    },
    {
     "cell_type": "heading",
     "level": 4,
     "metadata": {},
     "source": [
      "Plot the filter projection $\\mathcal{P}h$"
     ]
    },
    {
     "cell_type": "code",
     "collapsed": false,
     "input": [
      "p.figure(2)\n",
      "p.axes(xlim=(t_Ph[0],t_Ph[-1]),xlabel='Time, [s]',ylabel='Amplitude',\n",
      "       title='Filter $h(t)$ and Filter projection $\\mathcal{P}h(t)$');  \n",
      "p.plot(t_Ph, h_long,'--k',label='$h\\qquad$' )\n",
      "p.plot(t_Ph, Ph,'-b',label='$\\mathcal{P}h\\qquad$')\n",
      "p.legend(loc='upper right')\n",
      "p.show()"
     ],
     "language": "python",
     "metadata": {},
     "outputs": []
    },
    {
     "cell_type": "heading",
     "level": 3,
     "metadata": {},
     "source": [
      "Filter the stimulus $u$"
     ]
    },
    {
     "cell_type": "markdown",
     "metadata": {},
     "source": [
      "Since all signals are finite, the filter output $v=u*h~$ is not calculated\n",
      "properly on the boundaries. $v_{proper}$ is that part of $v$, for which the\n",
      "convolution of $u$ and $h$ is computed correctly."
     ]
    },
    {
     "cell_type": "code",
     "collapsed": false,
     "input": [
      "v_proper = dt*fftconvolve(u,h,'valid') # convolve u with h\n",
      "u_proper = u[len(h)-1:]                # get the proper part of v\n",
      "t_proper = t[len(h)-1:]                # get the corresponding time vector"
     ],
     "language": "python",
     "metadata": {},
     "outputs": []
    },
    {
     "cell_type": "heading",
     "level": 4,
     "metadata": {},
     "source": [
      "Plot the filter output"
     ]
    },
    {
     "cell_type": "code",
     "collapsed": false,
     "input": [
      "p.figure(3)\n",
      "p.axes(xlim=(0,t_proper[-1]-t_proper[0]),xlabel='Time, [s]',ylabel='Amplitude',\n",
      "       title='Filter output $v(t)$')\n",
      "p.plot(t_proper-t_proper[0],v_proper)\n",
      "p.show()"
     ],
     "language": "python",
     "metadata": {},
     "outputs": []
    },
    {
     "cell_type": "heading",
     "level": 3,
     "metadata": {},
     "source": [
      "Encode the filter output $v=u*h$ with an IAF neuron"
     ]
    },
    {
     "cell_type": "heading",
     "level": 4,
     "metadata": {},
     "source": [
      "Specify parameters of the Ideal IAF neuron"
     ]
    },
    {
     "cell_type": "code",
     "collapsed": false,
     "input": [
      "delta = 0.007                              # set the threshold\n",
      "bias  = 0.28                               # set the bias\n",
      "kappa = 1.                                 # set capacitance"
     ],
     "language": "python",
     "metadata": {},
     "outputs": []
    },
    {
     "cell_type": "heading",
     "level": 4,
     "metadata": {},
     "source": [
      "Encode the filter output $v=u*h~$ with an IAF neuron"
     ]
    },
    {
     "cell_type": "code",
     "collapsed": false,
     "input": [
      "spk_train, vol_trace = cim.iaf_encode(dt, t_proper, v_proper, b=bias, d=delta, C=kappa)\n",
      "\n",
      "run_time('Initialization time:',tic_init)  # display the initialization time "
     ],
     "language": "python",
     "metadata": {},
     "outputs": []
    },
    {
     "cell_type": "heading",
     "level": 4,
     "metadata": {},
     "source": [
      "Plot the voltage trace and the associated spike train"
     ]
    },
    {
     "cell_type": "code",
     "collapsed": false,
     "input": [
      "p.figure(4)\n",
      "ax1 = p.subplot2grid((7, 1), (0, 0),rowspan=5,xlim=(0., 1.0),\n",
      "        ylabel='Amplitude', ylim=(min(vol_trace), delta*1.1),\n",
      "        title='Output of the [Filter]-[Ideal IAF] neural circuit')\n",
      "p.setp(ax1.get_xticklabels(), visible=False)\n",
      "ax2 = p.subplot2grid((7, 1), (5, 0),rowspan=2,sharex=ax1,\n",
      "        xlabel='Time, [s]', ylim=(0., 1.1),xlim=(0., 1.0),\n",
      "        yticks = (),yticklabels = ())\n",
      "ax1.plot(t_proper-t_proper[0],vol_trace,'b-',\n",
      "         label='Membrane voltage $v\\qquad$')\n",
      "ax1.plot((0, t_proper[-1]-t_proper[0]),(delta,delta),'--r',\n",
      "         label='Threshold $\\delta=' + repr(delta) + '$')\n",
      "ax1.plot(spk_train-t_proper[0],delta*np.ones_like(spk_train),'ro',\n",
      "         label= '$v(t)=\\delta$')\n",
      "ax1.legend(loc='lower right')\n",
      "ax2.stem(spk_train-t_proper[0],np.ones_like(spk_train),\n",
      "         linefmt='k-', markerfmt='k^', label='$(t_k)_{k\\in Z}$')\n",
      "ax2.legend(loc='lower right')\n",
      "p.show()"
     ],
     "language": "python",
     "metadata": {},
     "outputs": []
    },
    {
     "cell_type": "heading",
     "level": 3,
     "metadata": {},
     "source": [
      "Identify the filter projection $\\mathcal{P}h$"
     ]
    },
    {
     "cell_type": "markdown",
     "metadata": {},
     "source": [
      "Since the temporal support of the filter $h$ is not known, we identify the\n",
      "projection $\\mathcal{P}h~$ in a window $\\tau~$. Temporal windows $W^i$ of spikes can be \n",
      "chosen arbitrarily. Here we pick $W^i$ so that the\n",
      "Nyquist-type condition on the density of spikes is achieved quickly (see\n",
      "also Theorem 1 and Remark 1 in [1])."
     ]
    },
    {
     "cell_type": "code",
     "collapsed": false,
     "input": [
      "T_filt_rec = 0.12;                          # specify the hypothesized length of the impulse response \n",
      "tau = [-(T_filt_rec - t_filt[-1])/2, 0]     # tau is centered around the actual temporal support T_2-T_1\n",
      "tau[1] = t_filt[-1]-tau[0];\n",
      "\n",
      "# set the maximum number of windows to be used (could be smaller depending on the simulation)\n",
      "N_max = 10 \n",
      "\n",
      "# start the algorithm timer\n",
      "tic = time()   \n",
      "\n",
      "# execute the CIM algorithm\n",
      "[h_hat, windows] = cim.cim_ideal_iaf(dt, t_Ph, t_proper, u_proper,\n",
      "                       W, bias, delta, kappa, spk_train, tau, N_max)\n",
      "\n",
      "# display execution time\n",
      "run_time('CIM running time for Fig.4:',tic)"
     ],
     "language": "python",
     "metadata": {},
     "outputs": []
    },
    {
     "cell_type": "heading",
     "level": 3,
     "metadata": {},
     "source": [
      "Generate Fig. 4 of [1]"
     ]
    },
    {
     "cell_type": "code",
     "collapsed": false,
     "input": [
      "plot_cim_result(dt,t_proper,u_proper,v_proper,windows,spk_train,\n",
      "    t_Ph,h_long,Ph,h_hat,f,tau,fig_size = (16,12),fig_name = 'nips_fig_4',\n",
      "    fig_title='NIPS 2010 Figure 4\\nA.A. Lazar and Y.B. Slutskiy')"
     ],
     "language": "python",
     "metadata": {},
     "outputs": []
    },
    {
     "cell_type": "heading",
     "level": 3,
     "metadata": {},
     "source": [
      "Generate Fig. 5 of [1]"
     ]
    },
    {
     "cell_type": "markdown",
     "metadata": {},
     "source": [
      "The following procedures are same as above except that the input stimulus \n",
      "is now band-limited to 100Hz."
     ]
    },
    {
     "cell_type": "code",
     "collapsed": false,
     "input": [
      "f = 100.                                    # set the input signal bandwidth, [Hz]\n",
      "W = 2.*np.pi*f                              # calculate the bandwidth in [rad]\n",
      "t = np.arange(0.,1.52+dt,dt)                # set the time course of the input signal\n",
      "# fix the state of random number generator for reproducible results\n",
      "u = create_random_band_signal(dt, t, W, seed=20130101)\n",
      "\n",
      "# Compute the filter projection Ph\n",
      "Ph = low_pass_filter(dt,t_Ph,h_long,W)\n",
      " \n",
      "# Filter the input signal u\n",
      "v_proper = dt*fftconvolve(u,h,'valid')      # convolve u with h\n",
      "u_proper = u[len(h)-1:]                     # get the proper part of v\n",
      "t_proper = t[len(h)-1:]                     # get the corresponding time vector\n",
      "\n",
      "# Specify parameters of the Ideal IAF neuron\n",
      "delta = 0.007                               # set the threshold\n",
      "bias  = 0.28                                # set the bias\n",
      "kappa = 1.                                  # set capacitance\n",
      "\n",
      "# Encode the filter output v=u*h with an IAF neuron\n",
      "spk_train, vol_trace = cim.iaf_encode(dt, t_proper, v_proper, b=bias, d=delta, C=kappa)\n",
      "\n",
      "N_max = 15                                  # set the maximum number of windows to be used\n",
      "tic = time()                                # start the algorithm timer\n",
      "\n",
      "# execute the CIM algorithm\n",
      "[h_hat, windows] = cim.cim_ideal_iaf(dt, t_Ph, t_proper, u_proper,\n",
      "                       W, bias, delta, kappa, spk_train,tau, N_max)\n",
      "\n",
      "\n",
      "run_time('CIM running time for Fig.5:',tic) # display execution time"
     ],
     "language": "python",
     "metadata": {},
     "outputs": []
    },
    {
     "cell_type": "heading",
     "level": 4,
     "metadata": {},
     "source": [
      "Plot the results"
     ]
    },
    {
     "cell_type": "code",
     "collapsed": false,
     "input": [
      "plot_cim_result(dt,t_proper,u_proper,v_proper,windows,spk_train,\n",
      "    t_Ph,h_long,Ph,h_hat,f,tau,fig_size = (16,12),fig_name = 'nips_fig_5',\n",
      "    fig_title='NIPS 2010 Figure 5\\nA.A. Lazar and Y.B. Slutskiy')"
     ],
     "language": "python",
     "metadata": {},
     "outputs": []
    },
    {
     "cell_type": "heading",
     "level": 3,
     "metadata": {},
     "source": [
      "Generate Fig. 6 of [1]"
     ]
    },
    {
     "cell_type": "markdown",
     "metadata": {},
     "source": [
      "In Fig. 6a we plot the mean square error (MSE) between the filter\n",
      "projection \\$mathcal{P}h~$ and the identified filter $\\hat{h}$ as a \n",
      "function of the number of temporal windows $N$.\n",
      "\n",
      "In Fig. 6b we plot the mean square error (MSE) between the original\n",
      "filter h and the identified filter $\\hat{h}$ as a function of the input\n",
      "signal bandwidth"
     ]
    },
    {
     "cell_type": "heading",
     "level": 4,
     "metadata": {},
     "source": [
      "Get data for Fig. 6a"
     ]
    },
    {
     "cell_type": "code",
     "collapsed": false,
     "input": [
      "tic_fig6  = time()                      # initialize the timer for Fig.6\n",
      "tic_fig6a = time()                      # initialize the timer for Fig.6a\n",
      "f = 100.                                # set the input signal bandwidth, [Hz]\n",
      "W = 2.*np.pi*f                          # calculate the bandwidth in [rad]\n",
      "t = np.arange(0.,8.5+dt,dt)             # set the time course of the input signal\n",
      "\n",
      "# fix the state of random number generator for reproducible results\n",
      "u = create_random_band_signal(dt, t, W, seed=20130101)\n",
      "\n",
      "# Compute the filter projection Ph\n",
      "Ph = low_pass_filter(dt,t_Ph,h_long,W)\n",
      " \n",
      "# Filter the input signal u\n",
      "v_proper = dt*fftconvolve(u,h,'valid')  # convolve u with h\n",
      "u_proper = u[len(h)-1:]                 # get the proper part of v\n",
      "t_proper = t[len(h)-1:]                 # get the corresponding time vector\n",
      "\n",
      "# Specify the parameters for IAF neuron\n",
      "delta = 0.007                           # set the threshold\n",
      "kappa = 1.                              # set capacitance\n",
      "\n",
      "D = [20., 40., 60.]                     # set the average spiking density\n",
      "N_max = 30                              # set the maximum number of windows to be used\n",
      "MSE_N = np.zeros((len(D),N_max))        # initialize the MSE array\n",
      "\n",
      "# find indices of t for the given frame\n",
      "idx = np.logical_and( t_Ph >= tau[0], t_Ph <= tau[1] )    \n",
      "\n",
      "for i,d in enumerate(D):\n",
      "    bias  = d*delta/kappa;              # set the bias\n",
      "    # Encode the filter output v=u*h with an IAF neuron\n",
      "    spk_train, vol =  cim.iaf_encode(dt, t_proper, v_proper, b=bias, d=delta, C=kappa)\n",
      "    # Identify the filter projection Ph\n",
      "    [h_hat, windows, h_hat_N] = cim.cim_ideal_iaf(dt, t_Ph, t_proper, u_proper, W, \n",
      "                                    bias, delta, kappa, spk_train, tau, N_max,\n",
      "                                    Calc_MSE_N=True)\n",
      "    # Compute the normalized MSE\n",
      "    for j in xrange(len(windows)):\n",
      "        # Normalized RMSE error for Ph - h_hat\n",
      "        Ph_hhat_err  = abs(Ph-h_hat_N[j])/max(abs(Ph))\n",
      "        Ph_hhat_RMSE = sqrt(dt*np.trapz(Ph_hhat_err[idx]**2)/(tau[1]-tau[0]))\n",
      "        MSE_N[i,j] = 10*log10( Ph_hhat_RMSE**2 )\n",
      "        \n",
      "run_time('Fig. 6a time: ', tic_fig6a)   # display the running time for Fig.6a"
     ],
     "language": "python",
     "metadata": {},
     "outputs": []
    },
    {
     "cell_type": "heading",
     "level": 4,
     "metadata": {},
     "source": [
      "Get data for Fig. 6b"
     ]
    },
    {
     "cell_type": "markdown",
     "metadata": {},
     "source": [
      "In the following, for fixed number of windows $N$, we compute the MSE\n",
      "between the original filter $h$ and the identified filter $\\hat{h}$ as \n",
      "a function of the input signal bandwidth."
     ]
    },
    {
     "cell_type": "code",
     "collapsed": false,
     "input": [
      "tic_fig6b = time()                         # initialize the timer for Fig.6b\n",
      "\n",
      "F = np.arange(10.,160.,10.)                # specify the bandwidth vector\n",
      "t = np.arange(0,1.8+dt,dt)                 # specify the bandwidth vector\n",
      "N_max = 15                                 # set the number of windows\n",
      "\n",
      "# specify Ideal IAF neuron parameters\n",
      "delta = 0.007                              # set the threshold\n",
      "bias  = 0.42                               # set the bias\n",
      "kappa = 1.                                 # set the capacitance\n",
      "\n",
      "MSE_BW = np.zeros_like(F)\n",
      "    \n",
      "for i,f in enumerate(F):\n",
      "    W = 2*np.pi*f                          # calculate the bandwidth in [rad]\n",
      "    u = create_random_band_signal(dt, t, W, seed=20130101)\n",
      " \n",
      "    # Filter the input signal u\n",
      "    v_proper = dt*fftconvolve(u,h,'valid') # convolve u with h\n",
      "    u_proper = u[len(h)-1:]                # get the proper part of v\n",
      "    t_proper = t[len(h)-1:]                # get the corresponding time vector\n",
      "\n",
      "    # Encode the filter output v=u*h with an IAF neuron\n",
      "    spk_train, vol = cim.iaf_encode(dt, t_proper, v_proper, b=bias, d=delta, C=kappa)\n",
      "    \n",
      "    # Identify the filter projection Ph\n",
      "    h_hat, windows = cim.cim_ideal_iaf(dt, t_Ph, t_proper, u_proper, W, \n",
      "                         bias, delta, kappa, spk_train,tau, N_max)\n",
      "    \n",
      "    # Compute the normalized RMSE between h and h_hat\n",
      "    h_hhat_err   = np.abs(h_long-h_hat)/max(abs(h_long));               \n",
      "    h_hhat_RMSE  = sqrt(dt*np.trapz(h_hhat_err[idx]**2)/(tau[1]-tau[0]))\n",
      "    MSE_BW[i] = 10*log10( h_hhat_RMSE**2 )  # Compute the RMSE in dB\n",
      "    \n",
      "run_time('Fig. 6b time: ',tic_fig6b);       # display the running time for Fig.6b"
     ],
     "language": "python",
     "metadata": {},
     "outputs": []
    },
    {
     "cell_type": "heading",
     "level": 4,
     "metadata": {},
     "source": [
      "Plot FIg. 6"
     ]
    },
    {
     "cell_type": "code",
     "collapsed": false,
     "input": [
      "fig = p.figure( num='NIPS 2010 Fig. 6',figsize=(12,9), dpi=300, facecolor='w')\n",
      "# Plot Fig, 6-a\n",
      "ax = fig.add_subplot(2,1,1,xlim=(1,MSE_N.shape[1]),\n",
      "         title = 'MSE$(\\hat{h},\\mathcal{P}h)$ vs. the Number of Temporal Windows',\n",
      "         xlabel = 'Number of Windows $N$',ylabel = 'MSE$(\\hat{h},\\mathcal{P}h)$, [dB]') \n",
      "lineSpec = ['-o','-s','-d'];linecolor = ['k','b','r'];Marker_Size = [5, 5, 7]\n",
      "for d,mse,spec,color,marker_size in zip(D,MSE_N,lineSpec,linecolor,Marker_Size):\n",
      "    ax.plot(xrange(1,len(mse)+1),mse,spec,color=color,markersize=marker_size,\n",
      "            label='$D = %d$ Hz' % int(d))\n",
      "    ax.axvline(x=2*np.pi*100/(np.pi*d), ymin=-100, ymax=40,color=color,\n",
      "               linestyle='--',label='$\\Omega/(%d \\pi)$' % d)\n",
      "p.legend()\n",
      "# Plot Fig, 6-b\n",
      "ax = fig.add_subplot(2,1,2,xlim=(10,150),ylim=(-70,0),xticks = F,\n",
      "         title  = 'MSE$(\\hat{h},h)$ vs. input signal bandwidth',\n",
      "         xlabel = 'Input signal bandwidth $\\Omega/(2\\pi)$, [Hz]',\n",
      "         ylabel = 'MSE$(\\hat{h},h)$, [dB]') \n",
      "ax.plot( F, MSE_BW, '-bo', markersize = 5,\n",
      "         label='$D = 60\\;$Hz, $N = %d \\quad$' % N_max)\n",
      "p.savefig('nips_fig_6.png',dpi=300)"
     ],
     "language": "python",
     "metadata": {},
     "outputs": []
    },
    {
     "cell_type": "heading",
     "level": 4,
     "metadata": {},
     "source": [
      "Finalize the demo"
     ]
    },
    {
     "cell_type": "code",
     "collapsed": false,
     "input": [
      "run_time('Total Fig. 6 time: ',tic_fig6);           # display the running time for Fig.6\n",
      "run_time('Demo time: ', tic_demo);                  # display the demo time"
     ],
     "language": "python",
     "metadata": {},
     "outputs": []
    },
    {
     "cell_type": "heading",
     "level": 3,
     "metadata": {},
     "source": [
      "Reference"
     ]
    },
    {
     "cell_type": "markdown",
     "metadata": {},
     "source": [
      "[1] A.A. Lazar and Y.B. Slutskiy, Identifying Dendritic Processing, Advances in Neural Information Processing Systems 23, pp. 1261-1269, 2010\n",
      "\n",
      "[2] E.H. Adelson and J R. Bergen, Spatiotemporal energy models for the perception of motion, Journal of the Optical Society of America, Vol 2(2),1985"
     ]
    }
   ],
   "metadata": {}
  }
 ]
}